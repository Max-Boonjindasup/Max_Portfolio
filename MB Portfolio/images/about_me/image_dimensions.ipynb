{
 "cells": [
  {
   "cell_type": "code",
   "execution_count": 1,
   "metadata": {},
   "outputs": [
    {
     "name": "stdout",
     "output_type": "stream",
     "text": [
      "             Width  Height\n",
      "lights        2016     908\n",
      "ucsd          2048     922\n",
      "paraglide     2048    1365\n",
      "marshmallow   1512    2016\n",
      "rain          2048    2048\n"
     ]
    }
   ],
   "source": [
    "import pandas as pd\n",
    "\n",
    "image = ['paraglide', 'marshmallow', 'lights', 'rain', 'ucsd']\n",
    "width = [2048, 1512, 2016, 2048, 2048]\n",
    "height = [1365, 2016, 908, 2048, 922]\n",
    "\n",
    "size = {'Width': width, 'Height': height}\n",
    "image_df = pd.DataFrame(size, index=image)\n",
    "\n",
    "sorted_df = image_df.sort_values(by=['Height'])\n",
    "print(sorted_df)"
   ]
  }
 ],
 "metadata": {
  "kernelspec": {
   "display_name": "base",
   "language": "python",
   "name": "python3"
  },
  "language_info": {
   "codemirror_mode": {
    "name": "ipython",
    "version": 3
   },
   "file_extension": ".py",
   "mimetype": "text/x-python",
   "name": "python",
   "nbconvert_exporter": "python",
   "pygments_lexer": "ipython3",
   "version": "3.9.13"
  },
  "orig_nbformat": 4
 },
 "nbformat": 4,
 "nbformat_minor": 2
}
